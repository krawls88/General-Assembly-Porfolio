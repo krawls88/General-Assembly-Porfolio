{
 "cells": [
  {
   "cell_type": "code",
   "execution_count": null,
   "metadata": {
    "collapsed": true
   },
   "outputs": [],
   "source": []
  },
  {
   "cell_type": "code",
   "execution_count": null,
   "metadata": {
    "collapsed": true
   },
   "outputs": [],
   "source": [
    "#Y CLEANING DATA"
   ]
  },
  {
   "cell_type": "code",
   "execution_count": null,
   "metadata": {
    "collapsed": true
   },
   "outputs": [],
   "source": [
    "#ygood = pie[pie['rating'] >= 8]\n",
    "\n",
    "#ybad = pie[pie['rating'] < 8 ]\n",
    "\n",
    "#I AM CREATING A NEW COLUMN FOR OUR DATASET WHICH ARE COLUMNS OF 1'S AND O'S, 1'S FOR GOOD\n",
    "#REVIEWS AND 0'S FOR BAD.  I AM FEEDING THE COLUMNS INTO MY DATA FRAME THEN SPLITTING INTO\n",
    "#MY X DATA - THE REVIEWS AND Y TARGET - THE RATINGS \n",
    "\n",
    "# import numpy as np\n",
    "# ybad['new_rating'] = np.zeros(len(ybad))\n",
    "# ygood['new_rating'] = np.ones(len(ygood))\n",
    "\n",
    "#Movie = pd.concat([ygood, ybad])\n",
    "\n",
    "#Movie.head()\n",
    "\n",
    "#MY TARGET VALUES OF Y \n",
    "\n",
    "#y = Movie['new_rating'].values\n",
    "\n",
    "#MY DATA OF REVIEWS \n",
    "\n",
    "#X = Movie['review']"
   ]
  },
  {
   "cell_type": "code",
   "execution_count": null,
   "metadata": {
    "collapsed": true
   },
   "outputs": [],
   "source": [
    "#BEGING LOGRESS I USED, NOW DECIDED TO GRIDSEARCH AT THE END "
   ]
  },
  {
   "cell_type": "code",
   "execution_count": null,
   "metadata": {
    "collapsed": true
   },
   "outputs": [],
   "source": [
    "#CALL IN LOGISTIC REGRESSION \n",
    "\n",
    "# from sklearn.linear_model import LogisticRegression\n",
    "\n",
    "# lr = LogisticRegression()\n",
    "\n",
    "# lr.fit(X_train_features, y_train)\n",
    "# lr.score(X_test_features,y_test)\n",
    "\n",
    "# Y_pred_lr = lr.predict(X_test_features)\n",
    "\n",
    "# from sklearn.metrics import confusion_matrix\n",
    "# from sklearn.metrics import classification_report\n",
    "\n",
    "# print confusion_matrix(y_test, Y_pred_lr)\n",
    "\n",
    "# print classification_report(y_test, Y_pred_lr)"
   ]
  }
 ],
 "metadata": {
  "anaconda-cloud": {},
  "kernelspec": {
   "display_name": "Python [Root]",
   "language": "python",
   "name": "Python [Root]"
  },
  "language_info": {
   "codemirror_mode": {
    "name": "ipython",
    "version": 2
   },
   "file_extension": ".py",
   "mimetype": "text/x-python",
   "name": "python",
   "nbconvert_exporter": "python",
   "pygments_lexer": "ipython2",
   "version": "2.7.12"
  }
 },
 "nbformat": 4,
 "nbformat_minor": 0
}
